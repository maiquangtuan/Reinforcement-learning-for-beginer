{
  "nbformat": 4,
  "nbformat_minor": 0,
  "metadata": {
    "colab": {
      "name": "Jack's car rental problem.ipynb",
      "provenance": [],
      "authorship_tag": "ABX9TyMMW79JrXQxKc1YD1KhzItR",
      "include_colab_link": true
    },
    "kernelspec": {
      "display_name": "Python 3",
      "name": "python3"
    },
    "language_info": {
      "name": "python"
    }
  },
  "cells": [
    {
      "cell_type": "markdown",
      "metadata": {
        "id": "view-in-github",
        "colab_type": "text"
      },
      "source": [
        "<a href=\"https://colab.research.google.com/github/maiquangtuan/Reinforcement-learning-for-beginer/blob/main/Jack's_car_rental_problem.ipynb\" target=\"_parent\"><img src=\"https://colab.research.google.com/assets/colab-badge.svg\" alt=\"Open In Colab\"/></a>"
      ]
    },
    {
      "cell_type": "markdown",
      "metadata": {
        "id": "lKKp15gdk1Am"
      },
      "source": [
        "Jack’s Car Rental Jack manages two locations for a nationwide car rental company. Each day, some number of customers arrive at each location to rent cars. If Jack has a car available, he rents it out and is credited 10 dollar by the national company. If he is out of cars at that location, then the business is lost. Cars become available for renting the day after they are returned. To help ensure that cars are available where they are needed, Jack can move them between the two locations overnight, at a cost of $2 per car moved. We assume that the number of cars requested and returned at each location are Poisson random variables, meaning that the probability that the number is n is λ^n * e^(−λ) / n!, where λ is the expected number. Suppose λ is 3 and 4 for rental requests at the first and second locations and 3 and 2 for returns. To simplify the problem slightly, we assume that there can be no more than 20 cars at each location (any additional cars are returned to the nationwide company, and thus disappear from the problem) and a maximum of five cars can be moved from one location to the other in one night. We take the discount rate to be γ = 0.9 and formulate this as a continuing finite MDP, where the time steps are days, the state is the number of cars at each location at the end of the day, and the actions are the net numbers of cars moved between the two locations overnight.\n",
        "\n",
        "What is the optimal transfer policy of cars between branches?"
      ]
    },
    {
      "cell_type": "markdown",
      "metadata": {
        "id": "B5PvOVROlDY8"
      },
      "source": [
        "discount rate = 0.9\n",
        "\n",
        "state: the number of car at each location at the end of the day\n",
        "\n",
        "action: the numbers of car moved between 2 location overnight\n",
        "\n"
      ]
    },
    {
      "cell_type": "code",
      "metadata": {
        "id": "TNyGTQdGk4y0"
      },
      "source": [
        "import math \n",
        "import random \n",
        "import copy"
      ],
      "execution_count": null,
      "outputs": []
    },
    {
      "cell_type": "code",
      "metadata": {
        "id": "46rNfhyVmoYM"
      },
      "source": [
        "#first we set up the class car branch, which have 3 attributes which are the maximum number of cars it can contain, the available car for renting and the number of car that need one day to be available\n",
        "\n",
        "class RentalBranch:\n",
        "\n",
        "  def __init__(self, max_capacity, available, queued):\n",
        "    self.max_capacity = max_capacity \n",
        "    self.available  = available \n",
        "    self.queued  = queued \n",
        "\n",
        "  def transfer_car(self, transfer):\n",
        "    #transfer car in and out, if transfer > 0 mean add cars, < 0  mean remove car\n",
        "\n",
        "    if transfer < 0:\n",
        "      if self.available + transfer < 0:\n",
        "        return NotEnoughCarsException() \n",
        "      else:\n",
        "        self.available += transfer\n",
        "    \n",
        "    else:\n",
        "      #when adding car, we have to make sure it not greater than max_capacity\n",
        "\n",
        "      free_spot = self.max_capacity - self.available - self.queued \n",
        "      self.available += min(transfer, free_spot)\n",
        "  def __repr__(self):\n",
        "        return \"RentalBranch({0}, {1}, {2})\".format(self.max_capacity, self.available, self.queued)\n",
        "\n",
        "  def __eq__(self, other):\n",
        "        return self.max_capacity == other.max_capacity and self.available == other.available and self.queued == other.queued\n",
        "\n",
        "  def __hash__(self):\n",
        "        return hash((self.max_capacity, self.available, self.queued))"
      ],
      "execution_count": null,
      "outputs": []
    },
    {
      "cell_type": "code",
      "metadata": {
        "id": "zLMwURgMocCc"
      },
      "source": [
        "class Error(Exception):\n",
        "    \"\"\"Base exception for the script\"\"\"\n",
        "    pass\n",
        "\n",
        "class NotEnoughCarsException(Error):\n",
        "    \"\"\"Signifies insufficient cars in rental lot for intended operation.\"\"\"    \n",
        "    pass"
      ],
      "execution_count": null,
      "outputs": []
    },
    {
      "cell_type": "code",
      "metadata": {
        "id": "k2wSzMPUoo3T"
      },
      "source": [
        "class State:\n",
        "    \"\"\"A state of the game. Determined by two rental branches, branchA and branchB.\"\"\"\n",
        "    def __init__(self, branchA, branchB):\n",
        "        self.branchA = branchA\n",
        "        self.branchB = branchB\n",
        "\n",
        "    def __repr__(self):\n",
        "        return \"State(({0},{1},{2}), ({3},{4},{5}))\".format(\n",
        "            self.branchA.max_capacity, self.branchA.available, self.branchA.queued, self.branchB.max_capacity, self.branchB.available, self.branchB.queued)\n",
        "\n",
        "    def __eq__(self, other):\n",
        "        return self.branchA == other.branchA and self.branchB == other.branchB\n",
        "\n",
        "    def __hash__(self):\n",
        "        return hash((self.branchA, self.branchB))"
      ],
      "execution_count": null,
      "outputs": []
    },
    {
      "cell_type": "code",
      "metadata": {
        "id": "m7yclY16ou7T"
      },
      "source": [
        "class Policy:\n",
        "    \"\"\"A policy for transferring cars between rental branches.\n",
        "    Essentially a dictionary which maps states to an amount of cars to transfer from branch A to B. Negative numbers\n",
        "    signify a net transfer from B to A.\n",
        "    \"\"\"\n",
        "\n",
        "    def __init__(self, max_capacity):\n",
        "        self.max_capacity = max_capacity # We model the policy as a sparse map so we need max_capacity to know what the limits are\n",
        "        self.stateToActionMap = dict()\n",
        "\n",
        "    def __getitem__(self, key):\n",
        "        return self.stateToActionMap.get(key, 0)\n",
        "\n",
        "    def __setitem__(self, key, value):\n",
        "        self.stateToActionMap[key]=value"
      ],
      "execution_count": null,
      "outputs": []
    },
    {
      "cell_type": "code",
      "metadata": {
        "id": "iu7uzhEfo9DL"
      },
      "source": [
        "class ValueMap:\n",
        "    \"\"\"Map (dictionary) of state to estimated dollar value\"\"\"\n",
        "    \n",
        "    def __init__(self):\n",
        "        self.value_map = dict() # State instance to value\n",
        "\n",
        "    def random_initialization(self, max_capacity):\n",
        "        for totalA in range(max_capacity+1):\n",
        "            for qA in range(totalA+1):\n",
        "                branchA = RentalBranch(max_capacity, totalA-qA, qA)\n",
        "                for totalB in range(max_capacity+1):\n",
        "                    for qB in range(totalB+1):\n",
        "                        branchB = RentalBranch(max_capacity, totalB-qB, qB)\n",
        "                        self.value_map[State(branchA, branchB)] = random.uniform(0, 10)\n",
        "\n",
        "    def __getitem__(self, key):\n",
        "        return self.value_map[key]\n",
        "\n",
        "    def __setitem__(self, key, value):\n",
        "        self.value_map[key]=value\n"
      ],
      "execution_count": null,
      "outputs": []
    },
    {
      "cell_type": "code",
      "metadata": {
        "id": "DDa1RzWhpF2D"
      },
      "source": [
        "def state_iter(max_capacity):\n",
        "    \"\"\"Iterator over all possible states for two branches with specified maximum capacity\"\"\"\n",
        "    for totalA in range(max_capacity+1): \n",
        "        for queuedA in range(totalA+1):\n",
        "            branchA = RentalBranch(max_capacity, totalA-queuedA, queuedA)\n",
        "            for totalB in range(max_capacity+1):\n",
        "                for queuedB in range(totalB+1):\n",
        "                    branchB = RentalBranch(max_capacity, totalB-queuedB, queuedB)\n",
        "                    yield State(branchA, branchB)"
      ],
      "execution_count": null,
      "outputs": []
    },
    {
      "cell_type": "code",
      "metadata": {
        "id": "d4UEA6tmpPAL"
      },
      "source": [
        "def action_iter(state):\n",
        "    \"\"\"Iterator over the transfers from A to B\"\"\"\n",
        "    return range(-state.branchB.available, state.branchA.available+1)\n",
        "\n",
        "def estimate_state_value(state, value_map, policy):\n",
        "    \"\"\"Estimate the value of a state given the values of other states and a policy\"\"\"\n",
        "    return estimate_action_value(state, policy[state], value_map)\n",
        "\n",
        "def estimate_action_value(state, action, value_map):\n",
        "    \"\"\"Estimate the value of a state/action pair given the values of the other states\"\"\"\n",
        "\n",
        "    ##    The estimated value of a (state, action) pair is found as follows:\n",
        "    ##    1. Transfers cars according to the action and record the transfer cost\n",
        "    ##    2. Construct the possible rental scenarios (a Poisson distribution of customers for each branch)\n",
        "    ##    3. For each scenario, (a) record rental income, (b) move rented cars to queued and queued to available,\n",
        "    ##        (c) record discounted future income from the new state according to the value map\n",
        "    ##    4. Estimated value is transfer cost + probability-weighted sum of rental income and new state value\n",
        "    ##        for each scenario in 3.\n",
        "\n",
        "    # Create copies of the branches as we will modify them with car transfers\n",
        "    branchA = copy.copy(state.branchA)\n",
        "    branchB = copy.copy(state.branchB)\n",
        "\n",
        "    # Transfer cars and record transfer costs\n",
        "    income = - TRANSFER_COST * abs(action) # We always pay so it's always non-positive\n",
        "    try:\n",
        "        branchA.transfer_car(-action)\n",
        "        branchB.transfer_car(action)\n",
        "    except NotEnoughCarsException:\n",
        "        return BAD_MOVE_COST\n",
        "\n",
        "    # Construct probabilities for each rental scenario. Note that if customer count exceeds\n",
        "    # the number of available cars, we turn away the extra customers.\n",
        "    rent_probA = rental_probabilities(branchA.available)\n",
        "    rent_probB = rental_probabilities(branchB.available)\n",
        "\n",
        "    for (custA, probA) in enumerate(rent_probA):\n",
        "        newBranchA = RentalBranch(branchA.max_capacity, branchA.available - custA + branchA.queued, custA)\n",
        "        for (custB, probB) in enumerate(rent_probB):\n",
        "            newBranchB = RentalBranch(branchB.max_capacity, branchB.available - custB + branchB.queued, custB)\n",
        "            income += probA*probB*( (custA+custB)*RENTAL_INCOME + DISCOUNT_RATE*value_map[State(newBranchA, newBranchB)] )\n",
        "\n",
        "    return income\n"
      ],
      "execution_count": null,
      "outputs": []
    },
    {
      "cell_type": "code",
      "metadata": {
        "id": "EhI-90EKpeZT"
      },
      "source": [
        "def rental_probabilities(available):\n",
        "    \"\"\"List of probabilities for number of cars rented out. Index signifies number of cars, value is probability.\"\"\"\n",
        "    rent_prob = [(RENT_RATE**n) / math.factorial(n) * math.exp(-RENT_RATE) for n in range(available)] # Poisson distribution\n",
        "    rent_prob.append(1-sum(rent_prob)) # Customers equal or exceed available cars\n",
        "    return rent_prob"
      ],
      "execution_count": null,
      "outputs": []
    },
    {
      "cell_type": "code",
      "metadata": {
        "id": "6JhDvUvrpjtL"
      },
      "source": [
        "def print_policy(policy):\n",
        "    \"\"\"ASCII representation of the policy.\n",
        "    Shows a matrix of the transfers to be made given the available cars in the two branches (A vertical, B horizontal).\n",
        "    The policy is shown for 0 queued cars.\n",
        "    Transfer values are shown as absolutes (to fit everything below 10 in a single cell).\n",
        "    \"\"\"\n",
        "    print_rows = []\n",
        "    max_capacity = policy.max_capacity\n",
        "    for availableA in range(max_capacity, -1, -1):\n",
        "        branchA = RentalBranch(max_capacity, availableA, 0)\n",
        "        states = [State(branchA, RentalBranch(max_capacity, availableB, 0)) for availableB in range(0, max_capacity+1)]\n",
        "        transfers = [str(abs(policy[s])) for s in states]\n",
        "        print_rows.append(''.join(transfers))\n",
        "\n",
        "    print('\\n'.join(print_rows))"
      ],
      "execution_count": null,
      "outputs": []
    },
    {
      "cell_type": "code",
      "metadata": {
        "id": "GA0RawinpsXk"
      },
      "source": [
        "BAD_MOVE_COST = -1000 # The cost of an illegal 'move'.\n",
        "RENT_RATE     = 5     # Average number of customers per day\n",
        "DISCOUNT_RATE = 0.9   # The future value of money (i.e., tomorrow's money is today worth DISCOUNT_RATE*(what it is worth tomorrow))\n",
        "RENTAL_INCOME = 10\n",
        "TRANSFER_COST = 2\n",
        "\n",
        "def main(max_capacity):\n",
        "    value_change_threshold = 1\n",
        "    policy_changed = True\n",
        "\n",
        "    value_map = ValueMap()\n",
        "    value_map.random_initialization(max_capacity)\n",
        "    policy = Policy(max_capacity)\n",
        "\n",
        "    while policy_changed:\n",
        "        # Update the value map to fit with the new policy\n",
        "        print(\"*** Evaluating value map ***\")\n",
        "        max_value_change = value_change_threshold+1\n",
        "        while max_value_change > value_change_threshold:\n",
        "            max_value_change = 0\n",
        "            for state in state_iter(max_capacity):\n",
        "                old_value = value_map[state]\n",
        "                new_value = estimate_state_value(state, value_map, policy)\n",
        "                value_map[state] = new_value\n",
        "                max_value_change = max(max_value_change, abs(new_value-old_value))\n",
        "\n",
        "        # Update the policy again\n",
        "        print(\"*** Updating policy ***\")\n",
        "        policy_changed = False\n",
        "\n",
        "        for state in state_iter(max_capacity):\n",
        "            actionVals = [(a, estimate_action_value(state, a, value_map)) for a in action_iter(state)]\n",
        "            best = max(actionVals, key=lambda e: e[1])\n",
        "            if policy[state] != best[0]: # HORRORS if multiple best actions and we switch back and forth\n",
        "                policy_changed=True\n",
        "                policy[state]=best[0]\n",
        "                old_state = state\n",
        "\n",
        "    print('\\n\\n**********************\\n\\n')\n",
        "    print_policy(policy)\n",
        "                "
      ],
      "execution_count": null,
      "outputs": []
    },
    {
      "cell_type": "code",
      "metadata": {
        "colab": {
          "background_save": true,
          "base_uri": "https://localhost:8080/"
        },
        "id": "rs-6MzBWp0Kz",
        "outputId": "9a4be6b8-a677-49bf-dc56-92b7feeb0fe6"
      },
      "source": [
        "main(20)"
      ],
      "execution_count": null,
      "outputs": [
        {
          "output_type": "stream",
          "text": [
            "*** Evaluating value map ***\n",
            "*** Updating policy ***\n",
            "*** Evaluating value map ***\n",
            "*** Updating policy ***\n",
            "*** Evaluating value map ***\n",
            "*** Updating policy ***\n",
            "*** Evaluating value map ***\n",
            "*** Updating policy ***\n",
            "*** Evaluating value map ***\n",
            "*** Updating policy ***\n",
            "*** Evaluating value map ***\n",
            "*** Updating policy ***\n",
            "*** Evaluating value map ***\n",
            "*** Updating policy ***\n",
            "*** Evaluating value map ***\n",
            "*** Updating policy ***\n",
            "*** Evaluating value map ***\n",
            "*** Updating policy ***\n",
            "*** Evaluating value map ***\n",
            "*** Updating policy ***\n",
            "*** Evaluating value map ***\n",
            "*** Updating policy ***\n",
            "*** Evaluating value map ***\n",
            "*** Updating policy ***\n",
            "*** Evaluating value map ***\n",
            "*** Updating policy ***\n",
            "*** Evaluating value map ***\n",
            "*** Updating policy ***\n",
            "*** Evaluating value map ***\n",
            "*** Updating policy ***\n",
            "*** Evaluating value map ***\n",
            "*** Updating policy ***\n",
            "*** Evaluating value map ***\n",
            "*** Updating policy ***\n",
            "*** Evaluating value map ***\n",
            "*** Updating policy ***\n",
            "*** Evaluating value map ***\n",
            "*** Updating policy ***\n",
            "*** Evaluating value map ***\n",
            "*** Updating policy ***\n",
            "\n",
            "\n",
            "**********************\n",
            "\n",
            "\n",
            "876654321100000000000\n",
            "776554321000000000000\n",
            "766544321000000000000\n",
            "765543321000000000000\n",
            "665443221000000000000\n",
            "655433211000000000000\n",
            "654432210000000000000\n",
            "554332110000000000000\n",
            "544322100000000000000\n",
            "443321100000000000000\n",
            "433221000000000000000\n",
            "432211000000000000001\n",
            "332110000000000111111\n",
            "322100000000011122222\n",
            "221100000001112223333\n",
            "211000000111222333444\n",
            "110000001122233344455\n",
            "100000111223334445556\n",
            "000001122233444555666\n",
            "000011223334455566677\n",
            "000112233444556667778\n"
          ],
          "name": "stdout"
        }
      ]
    }
  ]
}